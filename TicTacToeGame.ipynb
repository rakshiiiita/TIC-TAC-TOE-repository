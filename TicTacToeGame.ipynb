{
 "cells": [
  {
   "cell_type": "markdown",
   "id": "baebc387-dfec-484a-91c0-f77dd99a81ac",
   "metadata": {},
   "source": [
    "----TIC-TAC-TOE GAME PROJECT---- \n",
    "\n",
    "with (Python Programming Language)"
   ]
  },
  {
   "cell_type": "code",
   "execution_count": 1,
   "id": "f0a7ed7d-c0d5-4c38-928e-2a0f52999551",
   "metadata": {},
   "outputs": [],
   "source": [
    "def ConstBoard(board):\n",
    "    print(\"Current State of the Board: \\n\\n\")\n",
    "    for i in range(0,9):\n",
    "        if((i>0) and (i%3)==0):\n",
    "            print(\"\\n\")\n",
    "        if(board[i]==0):\n",
    "            print(\"_ \", end=\" \")\n",
    "        if(board[i]==-1):\n",
    "            print(\"X \", end=\" \")\n",
    "        if(board[i]==1):\n",
    "            print(\"O \", end=\" \")\n",
    "    print(\"\\n\\n\");\n",
    "\n",
    "def User1Turn(board):\n",
    "    pos = int(input(\"Enter X's position from [1,2,3,....,9]\"));\n",
    "    if(board[pos-1])!=0:\n",
    "        print(\"Wrong Move\");\n",
    "        exit(0);\n",
    "    board[pos-1]=-1;\n",
    "\n",
    "def User2Turn(board):\n",
    "    pos = int(input(\"Enter O's position from [1,2,3,....,9]\"));\n",
    "    if(board[pos-1])!=0:\n",
    "        print(\"Wrong Move\");\n",
    "        exit(0);\n",
    "    board[pos-1]=1;\n",
    "\n",
    "def minmax(board, player):\n",
    "    x = analyzeboard(board);\n",
    "    if(x!=0):\n",
    "        return(x*player);\n",
    "    pos = -1;\n",
    "    value = -2;\n",
    "    for i in range(0, 9):\n",
    "        if(board[i]==0):\n",
    "          board[i]=player;\n",
    "          score=minmax(board, player*-1);\n",
    "          board[i] = 0;\n",
    "          if(score>value):\n",
    "            value=score;\n",
    "            pos=i;\n",
    "    if(pos==-1):\n",
    "        return 0;\n",
    "    return value;\n",
    "\n",
    "def CompTurn(board):\n",
    "    pos = -1;\n",
    "    value = -2;\n",
    "    for i in range(0, 9):\n",
    "        if(board[i]==0):\n",
    "          board[i]=-1;\n",
    "          score=minmax(board, -1);\n",
    "          board[i] = 0;\n",
    "          if(score>value):\n",
    "            value=score;\n",
    "            pos=i;\n",
    "    board[pos]=1\n",
    "\n",
    "def analyzeboard(board):\n",
    "    cb = [[0, 1, 2], [3, 4, 5], [6, 7, 8], [0, 3, 6], [1, 4, 7], [2, 5, 8], [0, 4, 8], [2, 4, 6]]\n",
    "    \n",
    "    for i in range(0, 8):\n",
    "        if(board[cb[i][0]]!=0 and\n",
    "           board[cb[i][0]]==board[cb[i][1]] and\n",
    "           board[cb[i][0]]==board[cb[i][2]]):\n",
    "          return board[cb[i][0]];\n",
    "\n",
    "    return 0;\n",
    "\n",
    "def main():\n",
    "    choice = int(input(\"Enter 1 for Single Player, 2 for Multiplayer:\"));\n",
    "    board = [0, 0, 0, 0, 0, 0, 0, 0, 0]\n",
    "    if(choice==1):\n",
    "        print(\"Computer: O Vs. You: X\");\n",
    "        player = int(input(\"Enter to play 1(st) or 2(nd): \"));\n",
    "        for i in range(0, 9):\n",
    "            if(analyzeboard(board)!=0):\n",
    "                break;\n",
    "            if((i+player)%2==0):\n",
    "                CompTurn(board);\n",
    "            else:\n",
    "                ConstBoard(board);\n",
    "                User1Turn(board);\n",
    "    else:\n",
    "         for i in range(0, 9):\n",
    "            if(analyzeboard(board)!=0):\n",
    "                break;\n",
    "            if(i%2==0):\n",
    "                ConstBoard(board);\n",
    "                User1Turn(board);\n",
    "            else:\n",
    "                ConstBoard(board);\n",
    "                User2Turn(board);\n",
    "\n",
    "    x = analyzeboard(board);\n",
    "    if(x==0):\n",
    "        ConstBoard(board);\n",
    "        print(\"Draw!\");\n",
    "    if(x==-1):\n",
    "        ConstBoard(board);\n",
    "        print(\"Player X Wins! O Looses!\");\n",
    "    if(x==1):\n",
    "        ConstBoard(board);\n",
    "        print(\"Player O Wins! X Looses!\");"
   ]
  },
  {
   "cell_type": "code",
   "execution_count": 2,
   "id": "2f1391a2-f305-49eb-a2f3-ac4a7d4ef0ce",
   "metadata": {},
   "outputs": [
    {
     "name": "stdin",
     "output_type": "stream",
     "text": [
      "Enter 1 for Single Player, 2 for Multiplayer: 2\n"
     ]
    },
    {
     "name": "stdout",
     "output_type": "stream",
     "text": [
      "Current State of the Board: \n",
      "\n",
      "\n",
      "_  _  _  \n",
      "\n",
      "_  _  _  \n",
      "\n",
      "_  _  _  \n",
      "\n",
      "\n"
     ]
    },
    {
     "name": "stdin",
     "output_type": "stream",
     "text": [
      "Enter X's position from [1,2,3,....,9] 5\n"
     ]
    },
    {
     "name": "stdout",
     "output_type": "stream",
     "text": [
      "Current State of the Board: \n",
      "\n",
      "\n",
      "_  _  _  \n",
      "\n",
      "_  X  _  \n",
      "\n",
      "_  _  _  \n",
      "\n",
      "\n"
     ]
    },
    {
     "name": "stdin",
     "output_type": "stream",
     "text": [
      "Enter O's position from [1,2,3,....,9] 3\n"
     ]
    },
    {
     "name": "stdout",
     "output_type": "stream",
     "text": [
      "Current State of the Board: \n",
      "\n",
      "\n",
      "_  _  O  \n",
      "\n",
      "_  X  _  \n",
      "\n",
      "_  _  _  \n",
      "\n",
      "\n"
     ]
    },
    {
     "name": "stdin",
     "output_type": "stream",
     "text": [
      "Enter X's position from [1,2,3,....,9] 1\n"
     ]
    },
    {
     "name": "stdout",
     "output_type": "stream",
     "text": [
      "Current State of the Board: \n",
      "\n",
      "\n",
      "X  _  O  \n",
      "\n",
      "_  X  _  \n",
      "\n",
      "_  _  _  \n",
      "\n",
      "\n"
     ]
    },
    {
     "name": "stdin",
     "output_type": "stream",
     "text": [
      "Enter O's position from [1,2,3,....,9] 9\n"
     ]
    },
    {
     "name": "stdout",
     "output_type": "stream",
     "text": [
      "Current State of the Board: \n",
      "\n",
      "\n",
      "X  _  O  \n",
      "\n",
      "_  X  _  \n",
      "\n",
      "_  _  O  \n",
      "\n",
      "\n"
     ]
    },
    {
     "name": "stdin",
     "output_type": "stream",
     "text": [
      "Enter X's position from [1,2,3,....,9] 7\n"
     ]
    },
    {
     "name": "stdout",
     "output_type": "stream",
     "text": [
      "Current State of the Board: \n",
      "\n",
      "\n",
      "X  _  O  \n",
      "\n",
      "_  X  _  \n",
      "\n",
      "X  _  O  \n",
      "\n",
      "\n"
     ]
    },
    {
     "name": "stdin",
     "output_type": "stream",
     "text": [
      "Enter O's position from [1,2,3,....,9] 6\n"
     ]
    },
    {
     "name": "stdout",
     "output_type": "stream",
     "text": [
      "Current State of the Board: \n",
      "\n",
      "\n",
      "X  _  O  \n",
      "\n",
      "_  X  O  \n",
      "\n",
      "X  _  O  \n",
      "\n",
      "\n",
      "Player O Wins! X Looses!\n"
     ]
    }
   ],
   "source": [
    "main()"
   ]
  }
 ],
 "metadata": {
  "kernelspec": {
   "display_name": "Python 3 (ipykernel)",
   "language": "python",
   "name": "python3"
  },
  "language_info": {
   "codemirror_mode": {
    "name": "ipython",
    "version": 3
   },
   "file_extension": ".py",
   "mimetype": "text/x-python",
   "name": "python",
   "nbconvert_exporter": "python",
   "pygments_lexer": "ipython3",
   "version": "3.12.7"
  }
 },
 "nbformat": 4,
 "nbformat_minor": 5
}
